{
  "nbformat": 4,
  "nbformat_minor": 0,
  "metadata": {
    "colab": {
      "name": "Hasil Preprocessing.ipynb",
      "provenance": [],
      "collapsed_sections": [],
      "include_colab_link": true
    },
    "kernelspec": {
      "name": "python3",
      "display_name": "Python 3"
    },
    "language_info": {
      "name": "python"
    }
  },
  "cells": [
    {
      "cell_type": "markdown",
      "metadata": {
        "id": "view-in-github",
        "colab_type": "text"
      },
      "source": [
        "<a href=\"https://colab.research.google.com/github/listakurniawati/Mathematical-Modelling-for-Chronic-Kidney-Disease-Detection-using-Multi-layer-Perceptron/blob/main/Preprocessing.ipynb\" target=\"_parent\"><img src=\"https://colab.research.google.com/assets/colab-badge.svg\" alt=\"Open In Colab\"/></a>"
      ]
    },
    {
      "cell_type": "code",
      "metadata": {
        "id": "VRyf0XWh9gsQ"
      },
      "source": [
        "import tensorflow as tf\n",
        "import numpy as np\n",
        "import pandas as pd\n",
        "import matplotlib.pyplot as plt"
      ],
      "execution_count": null,
      "outputs": []
    },
    {
      "cell_type": "code",
      "metadata": {
        "colab": {
          "base_uri": "https://localhost:8080/",
          "height": 224
        },
        "id": "clExOoVL9lby",
        "outputId": "f955818d-8cb8-49ba-c845-e7f6ac6c6892"
      },
      "source": [
        "#Import Dataset\n",
        "dataset = pd.read_excel(r'https://drive.google.com/uc?export=download&id=1zV3EZRWWePzi8w6ZLW10RH62snhM5dQH')\n",
        "dataset.head()"
      ],
      "execution_count": null,
      "outputs": [
        {
          "output_type": "execute_result",
          "data": {
            "text/html": [
              "<div>\n",
              "<style scoped>\n",
              "    .dataframe tbody tr th:only-of-type {\n",
              "        vertical-align: middle;\n",
              "    }\n",
              "\n",
              "    .dataframe tbody tr th {\n",
              "        vertical-align: top;\n",
              "    }\n",
              "\n",
              "    .dataframe thead th {\n",
              "        text-align: right;\n",
              "    }\n",
              "</style>\n",
              "<table border=\"1\" class=\"dataframe\">\n",
              "  <thead>\n",
              "    <tr style=\"text-align: right;\">\n",
              "      <th></th>\n",
              "      <th>id</th>\n",
              "      <th>age</th>\n",
              "      <th>bp</th>\n",
              "      <th>sg</th>\n",
              "      <th>al</th>\n",
              "      <th>su</th>\n",
              "      <th>rbc</th>\n",
              "      <th>pc</th>\n",
              "      <th>pcc</th>\n",
              "      <th>ba</th>\n",
              "      <th>bgr</th>\n",
              "      <th>bu</th>\n",
              "      <th>sc</th>\n",
              "      <th>sod</th>\n",
              "      <th>pot</th>\n",
              "      <th>hemo</th>\n",
              "      <th>pcv</th>\n",
              "      <th>wc</th>\n",
              "      <th>rc</th>\n",
              "      <th>htn</th>\n",
              "      <th>dm</th>\n",
              "      <th>cad</th>\n",
              "      <th>appet</th>\n",
              "      <th>pe</th>\n",
              "      <th>ane</th>\n",
              "      <th>classification</th>\n",
              "    </tr>\n",
              "  </thead>\n",
              "  <tbody>\n",
              "    <tr>\n",
              "      <th>0</th>\n",
              "      <td>0</td>\n",
              "      <td>48.0</td>\n",
              "      <td>80.0</td>\n",
              "      <td>1.020</td>\n",
              "      <td>1.0</td>\n",
              "      <td>0.0</td>\n",
              "      <td>NaN</td>\n",
              "      <td>normal</td>\n",
              "      <td>notpresent</td>\n",
              "      <td>notpresent</td>\n",
              "      <td>121.0</td>\n",
              "      <td>36.0</td>\n",
              "      <td>1.2</td>\n",
              "      <td>NaN</td>\n",
              "      <td>NaN</td>\n",
              "      <td>15.4</td>\n",
              "      <td>44.0</td>\n",
              "      <td>7800.0</td>\n",
              "      <td>5.2</td>\n",
              "      <td>yes</td>\n",
              "      <td>yes</td>\n",
              "      <td>no</td>\n",
              "      <td>good</td>\n",
              "      <td>no</td>\n",
              "      <td>no</td>\n",
              "      <td>ckd</td>\n",
              "    </tr>\n",
              "    <tr>\n",
              "      <th>1</th>\n",
              "      <td>1</td>\n",
              "      <td>7.0</td>\n",
              "      <td>50.0</td>\n",
              "      <td>1.020</td>\n",
              "      <td>4.0</td>\n",
              "      <td>0.0</td>\n",
              "      <td>NaN</td>\n",
              "      <td>normal</td>\n",
              "      <td>notpresent</td>\n",
              "      <td>notpresent</td>\n",
              "      <td>NaN</td>\n",
              "      <td>18.0</td>\n",
              "      <td>0.8</td>\n",
              "      <td>NaN</td>\n",
              "      <td>NaN</td>\n",
              "      <td>11.3</td>\n",
              "      <td>38.0</td>\n",
              "      <td>6000.0</td>\n",
              "      <td>NaN</td>\n",
              "      <td>no</td>\n",
              "      <td>no</td>\n",
              "      <td>no</td>\n",
              "      <td>good</td>\n",
              "      <td>no</td>\n",
              "      <td>no</td>\n",
              "      <td>ckd</td>\n",
              "    </tr>\n",
              "    <tr>\n",
              "      <th>2</th>\n",
              "      <td>2</td>\n",
              "      <td>62.0</td>\n",
              "      <td>80.0</td>\n",
              "      <td>1.010</td>\n",
              "      <td>2.0</td>\n",
              "      <td>3.0</td>\n",
              "      <td>normal</td>\n",
              "      <td>normal</td>\n",
              "      <td>notpresent</td>\n",
              "      <td>notpresent</td>\n",
              "      <td>423.0</td>\n",
              "      <td>53.0</td>\n",
              "      <td>1.8</td>\n",
              "      <td>NaN</td>\n",
              "      <td>NaN</td>\n",
              "      <td>9.6</td>\n",
              "      <td>31.0</td>\n",
              "      <td>7500.0</td>\n",
              "      <td>NaN</td>\n",
              "      <td>no</td>\n",
              "      <td>yes</td>\n",
              "      <td>no</td>\n",
              "      <td>poor</td>\n",
              "      <td>no</td>\n",
              "      <td>yes</td>\n",
              "      <td>ckd</td>\n",
              "    </tr>\n",
              "    <tr>\n",
              "      <th>3</th>\n",
              "      <td>3</td>\n",
              "      <td>48.0</td>\n",
              "      <td>70.0</td>\n",
              "      <td>1.005</td>\n",
              "      <td>4.0</td>\n",
              "      <td>0.0</td>\n",
              "      <td>normal</td>\n",
              "      <td>abnormal</td>\n",
              "      <td>present</td>\n",
              "      <td>notpresent</td>\n",
              "      <td>117.0</td>\n",
              "      <td>56.0</td>\n",
              "      <td>3.8</td>\n",
              "      <td>111.0</td>\n",
              "      <td>2.5</td>\n",
              "      <td>11.2</td>\n",
              "      <td>32.0</td>\n",
              "      <td>6700.0</td>\n",
              "      <td>3.9</td>\n",
              "      <td>yes</td>\n",
              "      <td>no</td>\n",
              "      <td>no</td>\n",
              "      <td>poor</td>\n",
              "      <td>yes</td>\n",
              "      <td>yes</td>\n",
              "      <td>ckd</td>\n",
              "    </tr>\n",
              "    <tr>\n",
              "      <th>4</th>\n",
              "      <td>4</td>\n",
              "      <td>51.0</td>\n",
              "      <td>80.0</td>\n",
              "      <td>1.010</td>\n",
              "      <td>2.0</td>\n",
              "      <td>0.0</td>\n",
              "      <td>normal</td>\n",
              "      <td>normal</td>\n",
              "      <td>notpresent</td>\n",
              "      <td>notpresent</td>\n",
              "      <td>106.0</td>\n",
              "      <td>26.0</td>\n",
              "      <td>1.4</td>\n",
              "      <td>NaN</td>\n",
              "      <td>NaN</td>\n",
              "      <td>11.6</td>\n",
              "      <td>35.0</td>\n",
              "      <td>7300.0</td>\n",
              "      <td>4.6</td>\n",
              "      <td>no</td>\n",
              "      <td>no</td>\n",
              "      <td>no</td>\n",
              "      <td>good</td>\n",
              "      <td>no</td>\n",
              "      <td>no</td>\n",
              "      <td>ckd</td>\n",
              "    </tr>\n",
              "  </tbody>\n",
              "</table>\n",
              "</div>"
            ],
            "text/plain": [
              "   id   age    bp     sg   al   su  ...   dm cad appet   pe  ane  classification\n",
              "0   0  48.0  80.0  1.020  1.0  0.0  ...  yes  no  good   no   no             ckd\n",
              "1   1   7.0  50.0  1.020  4.0  0.0  ...   no  no  good   no   no             ckd\n",
              "2   2  62.0  80.0  1.010  2.0  3.0  ...  yes  no  poor   no  yes             ckd\n",
              "3   3  48.0  70.0  1.005  4.0  0.0  ...   no  no  poor  yes  yes             ckd\n",
              "4   4  51.0  80.0  1.010  2.0  0.0  ...   no  no  good   no   no             ckd\n",
              "\n",
              "[5 rows x 26 columns]"
            ]
          },
          "metadata": {
            "tags": []
          },
          "execution_count": 2
        }
      ]
    },
    {
      "cell_type": "code",
      "metadata": {
        "colab": {
          "base_uri": "https://localhost:8080/"
        },
        "id": "Z0y2GcFv-FzE",
        "outputId": "31489ed4-6742-4754-a3ae-3f68a12028fd"
      },
      "source": [
        "#Menghitung jumlah missing value di setiap kolom\n",
        "print(dataset)\n",
        "print(dataset.isnull().sum())\n",
        "print(dataset.isnull().sum().sum())"
      ],
      "execution_count": null,
      "outputs": [
        {
          "output_type": "stream",
          "text": [
            "      id   age    bp     sg   al   su  ...   dm cad appet   pe  ane  classification\n",
            "0      0  48.0  80.0  1.020  1.0  0.0  ...  yes  no  good   no   no             ckd\n",
            "1      1   7.0  50.0  1.020  4.0  0.0  ...   no  no  good   no   no             ckd\n",
            "2      2  62.0  80.0  1.010  2.0  3.0  ...  yes  no  poor   no  yes             ckd\n",
            "3      3  48.0  70.0  1.005  4.0  0.0  ...   no  no  poor  yes  yes             ckd\n",
            "4      4  51.0  80.0  1.010  2.0  0.0  ...   no  no  good   no   no             ckd\n",
            "..   ...   ...   ...    ...  ...  ...  ...  ...  ..   ...  ...  ...             ...\n",
            "395  395  55.0  80.0  1.020  0.0  0.0  ...   no  no  good   no   no          notckd\n",
            "396  396  42.0  70.0  1.025  0.0  0.0  ...   no  no  good   no   no          notckd\n",
            "397  397  12.0  80.0  1.020  0.0  0.0  ...   no  no  good   no   no          notckd\n",
            "398  398  17.0  60.0  1.025  0.0  0.0  ...   no  no  good   no   no          notckd\n",
            "399  399  58.0  80.0  1.025  0.0  0.0  ...   no  no  good   no   no          notckd\n",
            "\n",
            "[400 rows x 26 columns]\n",
            "id                  0\n",
            "age                 9\n",
            "bp                 12\n",
            "sg                 47\n",
            "al                 46\n",
            "su                 49\n",
            "rbc               152\n",
            "pc                 65\n",
            "pcc                 4\n",
            "ba                  4\n",
            "bgr                44\n",
            "bu                 19\n",
            "sc                 17\n",
            "sod                87\n",
            "pot                88\n",
            "hemo               52\n",
            "pcv                71\n",
            "wc                106\n",
            "rc                131\n",
            "htn                 2\n",
            "dm                  2\n",
            "cad                 2\n",
            "appet               1\n",
            "pe                  1\n",
            "ane                 1\n",
            "classification      0\n",
            "dtype: int64\n",
            "1012\n"
          ],
          "name": "stdout"
        }
      ]
    },
    {
      "cell_type": "code",
      "metadata": {
        "colab": {
          "base_uri": "https://localhost:8080/",
          "height": 469
        },
        "id": "iQkU-qIq-Wgq",
        "outputId": "b87e5742-5ec4-4898-b34b-e820b1adaec7"
      },
      "source": [
        "#Melihat umur keseluruhan pada data\n",
        "print(dataset['age'].describe())\n",
        "print(dataset['age'].mode())\n",
        "dataset['age'].hist()"
      ],
      "execution_count": null,
      "outputs": [
        {
          "output_type": "stream",
          "text": [
            "count    391.000000\n",
            "mean      51.483376\n",
            "std       17.169714\n",
            "min        2.000000\n",
            "25%       42.000000\n",
            "50%       55.000000\n",
            "75%       64.500000\n",
            "max       90.000000\n",
            "Name: age, dtype: float64\n",
            "0    60.0\n",
            "dtype: float64\n"
          ],
          "name": "stdout"
        },
        {
          "output_type": "execute_result",
          "data": {
            "text/plain": [
              "<matplotlib.axes._subplots.AxesSubplot at 0x7f0731ffde10>"
            ]
          },
          "metadata": {
            "tags": []
          },
          "execution_count": 4
        },
        {
          "output_type": "display_data",
          "data": {
            "image/png": "[encoded data removed]",
            "text/plain": [
              "<Figure size 432x288 with 1 Axes>"
            ]
          },
          "metadata": {
            "tags": [],
            "needs_background": "light"
          }
        }
      ]
    },
    {
      "cell_type": "code",
      "metadata": {
        "id": "oGJZtElRw9Gp",
        "colab": {
          "base_uri": "https://localhost:8080/",
          "height": 435
        },
        "outputId": "cbd6bf6c-0d6c-4c27-dc13-61bdbff6ba3e"
      },
      "source": [
        "# Melihat data keseluruhan hemoglobin\n",
        "print(dataset['hemo'].describe())\n",
        "dataset['hemo'].hist()"
      ],
      "execution_count": null,
      "outputs": [
        {
          "output_type": "stream",
          "text": [
            "count    348.000000\n",
            "mean      12.526437\n",
            "std        2.912587\n",
            "min        3.100000\n",
            "25%       10.300000\n",
            "50%       12.650000\n",
            "75%       15.000000\n",
            "max       17.800000\n",
            "Name: hemo, dtype: float64\n"
          ],
          "name": "stdout"
        },
        {
          "output_type": "execute_result",
          "data": {
            "text/plain": [
              "<matplotlib.axes._subplots.AxesSubplot at 0x7f06f5ecf7d0>"
            ]
          },
          "metadata": {
            "tags": []
          },
          "execution_count": 5
        },
        {
          "output_type": "display_data",
          "data": {
            "image/png": "[encoded data removed]",
            "text/plain": [
              "<Figure size 432x288 with 1 Axes>"
            ]
          },
          "metadata": {
            "tags": [],
            "needs_background": "light"
          }
        }
      ]
    },
    {
      "cell_type": "code",
      "metadata": {
        "id": "lMnwn6O5uijo",
        "colab": {
          "base_uri": "https://localhost:8080/",
          "height": 1000
        },
        "outputId": "3df18bec-bf4f-4258-e605-f846c96c9b19"
      },
      "source": [
        "#Hubungan anemia dengan hemoglobin (dicek dari data anemia)\n",
        "data_ane1 = dataset[dataset['ane']=='yes']        #data pengidap anemia\n",
        "data_ane_hemo1 = data_ane1[['hemo','ane']]        #data pengidap anemia dan hemoglobinnya\n",
        "data_ane1['hemo'].hist()                          #histogram pengidap anemia\n",
        "print(data_ane1)\n",
        "print(data_ane1['hemo'].describe())               #statistik hemoglobin pengidap anemia\n",
        "print(data_ane_hemo1[data_ane_hemo1['hemo']>12])  #data pengidap anemia namun hemoglobin > 12\n",
        "data_ane1.isnull().sum()"
      ],
      "execution_count": null,
      "outputs": [
        {
          "output_type": "stream",
          "text": [
            "      id   age     bp     sg   al   su  ...   dm  cad appet   pe  ane  classification\n",
            "2      2  62.0   80.0  1.010  2.0  3.0  ...  yes   no  poor   no  yes             ckd\n",
            "3      3  48.0   70.0  1.005  4.0  0.0  ...   no   no  poor  yes  yes             ckd\n",
            "8      8  52.0  100.0  1.015  3.0  0.0  ...  yes   no  good   no  yes             ckd\n",
            "9      9  53.0   90.0  1.020  2.0  0.0  ...  yes   no  poor   no  yes             ckd\n",
            "10    10  50.0   60.0  1.010  2.0  4.0  ...  yes   no  good   no  yes             ckd\n",
            "15    15  40.0   80.0  1.015  3.0  0.0  ...   no   no  good   no  yes             ckd\n",
            "20    20  61.0   80.0  1.015  2.0  0.0  ...  yes  yes  poor  yes  yes             ckd\n",
            "22    22  48.0   80.0  1.025  4.0  0.0  ...   no   no  good   no  yes             ckd\n",
            "23    23  21.0   70.0  1.010  0.0  0.0  ...   no   no  poor   no  yes             ckd\n",
            "25    25  61.0   60.0  1.025  0.0  0.0  ...  yes   no  good   no  yes             ckd\n",
            "35    35  65.0   90.0  1.020  2.0  1.0  ...  yes   no  poor   no  yes             ckd\n",
            "37    37  72.0   80.0    NaN  NaN  NaN  ...  yes   no  poor   no  yes             ckd\n",
            "42    42  47.0  100.0  1.010  0.0  0.0  ...   no   no  good   no  yes             ckd\n",
            "49    49  60.0   70.0  1.010  2.0  0.0  ...  yes   no  poor   no  yes             ckd\n",
            "50    50  53.0   60.0    NaN  NaN  NaN  ...  yes   no  poor  yes  yes             ckd\n",
            "52    52  53.0   90.0  1.015  0.0  0.0  ...   no   no  poor   no  yes             ckd\n",
            "59    59  59.0  100.0    NaN  NaN  NaN  ...  yes   no  good   no  yes             ckd\n",
            "63    63  46.0   70.0  1.015  1.0  0.0  ...   no   no  good   no  yes             ckd\n",
            "73    73   NaN  100.0  1.015  2.0  0.0  ...   no   no  good  yes  yes             ckd\n",
            "75    75   5.0    NaN  1.015  1.0  0.0  ...   no   no  good   no  yes             ckd\n",
            "84    84  59.0   70.0  1.010  3.0  0.0  ...   no   no  poor  yes  yes             ckd\n",
            "95    95  62.0   90.0  1.015  1.0  0.0  ...   no   no  good  yes  yes             ckd\n",
            "98    98  50.0  140.0    NaN  NaN  NaN  ...  yes   no  poor   no  yes             ckd\n",
            "103  103  76.0   70.0  1.015  2.0  0.0  ...   no   no  poor  yes  yes             ckd\n",
            "106  106  50.0   90.0    NaN  NaN  NaN  ...  yes   no  good  yes  yes             ckd\n",
            "113  113  61.0   90.0  1.015  0.0  2.0  ...  yes   no  poor   no  yes             ckd\n",
            "115  115  47.0   80.0  1.010  0.0  0.0  ...   no   no  good   no  yes             ckd\n",
            "122  122  34.0   70.0    NaN  NaN  NaN  ...   no   no  good   no  yes             ckd\n",
            "128  128  52.0   90.0  1.015  4.0  3.0  ...  yes   no  good   no  yes             ckd\n",
            "130  130  50.0   90.0  1.010  2.0  0.0  ...   no   no  poor  yes  yes             ckd\n",
            "132  132  50.0    NaN    NaN  NaN  NaN  ...   no   no  good  yes  yes             ckd\n",
            "139  139  41.0   70.0  1.015  2.0  0.0  ...   no   no  good  yes  yes             ckd\n",
            "141  141  67.0   70.0  1.010  1.0  0.0  ...   no   no  good   no  yes             ckd\n",
            "145  145  57.0   90.0  1.015  5.0  0.0  ...  yes  yes  poor  yes  yes             ckd\n",
            "147  147  60.0   60.0  1.010  3.0  1.0  ...   no   no  poor   no  yes             ckd\n",
            "151  151  76.0   90.0    NaN  NaN  NaN  ...  yes   no  good   no  yes             ckd\n",
            "153  153  55.0   90.0  1.010  2.0  1.0  ...  yes   no  poor  yes  yes             ckd\n",
            "154  154  56.0   90.0  1.005  4.0  3.0  ...  yes   no  poor  yes  yes             ckd\n",
            "163  163  46.0   80.0  1.010  0.0  0.0  ...   no   no  poor   no  yes             ckd\n",
            "166  166  27.0   60.0    NaN  NaN  NaN  ...   no   no  poor  yes  yes             ckd\n",
            "169  169   NaN   70.0  1.010  0.0  2.0  ...  yes   no  good   no  yes             ckd\n",
            "171  171  83.0   70.0  1.020  3.0  0.0  ...   no   no  poor   no  yes             ckd\n",
            "176  176  21.0   90.0  1.010  4.0  0.0  ...   no   no  good   no  yes             ckd\n",
            "178  178  42.0   90.0  1.020  2.0  0.0  ...   no   no  poor  yes  yes             ckd\n",
            "193  193  32.0   90.0  1.025  1.0  0.0  ...  yes   no  poor  yes  yes             ckd\n",
            "196  196  49.0  100.0  1.010  3.0  0.0  ...  yes   no  poor  yes  yes             ckd\n",
            "197  197  57.0   80.0    NaN  NaN  NaN  ...  yes   no  good   no  yes             ckd\n",
            "201  201  64.0   70.0    NaN  NaN  NaN  ...  yes  yes  good  yes  yes             ckd\n",
            "202  202  78.0   60.0    NaN  NaN  NaN  ...  yes   no  good   no  yes             ckd\n",
            "203  203   NaN   90.0    NaN  NaN  NaN  ...  yes   no  good   no  yes             ckd\n",
            "204  204  65.0   90.0  1.010  4.0  2.0  ...  yes   no  good  yes  yes             ckd\n",
            "208  208  67.0   80.0    NaN  NaN  NaN  ...  yes   no  good   no  yes             ckd\n",
            "210  210  59.0  100.0  1.015  4.0  2.0  ...  yes  yes  good   no  yes             ckd\n",
            "235  235  45.0   70.0  1.010  2.0  0.0  ...   no  yes  good   no  yes             ckd\n",
            "238  238  72.0  100.0    NaN  NaN  NaN  ...  yes   no  good   no  yes             ckd\n",
            "242  242  69.0   70.0  1.010  4.0  3.0  ...  yes  yes  good  yes  yes             ckd\n",
            "244  244  64.0   90.0  1.015  3.0  2.0  ...  yes   no  good   no  yes             ckd\n",
            "246  246  48.0  110.0  1.015  3.0  0.0  ...   no  yes  good   no  yes             ckd\n",
            "247  247  54.0   90.0  1.025  1.0  0.0  ...   no   no  poor  yes  yes             ckd\n",
            "249  249  56.0   90.0  1.010  4.0  1.0  ...  yes   no  poor  yes  yes             ckd\n",
            "\n",
            "[60 rows x 26 columns]\n",
            "count    55.000000\n",
            "mean      8.610909\n",
            "std       1.870103\n",
            "min       3.100000\n",
            "25%       7.800000\n",
            "50%       8.600000\n",
            "75%       9.700000\n",
            "max      12.400000\n",
            "Name: hemo, dtype: float64\n",
            "     hemo  ane\n",
            "115  12.4  yes\n",
            "208  12.3  yes\n",
            "244  12.2  yes\n"
          ],
          "name": "stdout"
        },
        {
          "output_type": "execute_result",
          "data": {
            "text/plain": [
              "id                 0\n",
              "age                3\n",
              "bp                 2\n",
              "sg                15\n",
              "al                15\n",
              "su                15\n",
              "rbc               29\n",
              "pc                15\n",
              "pcc                0\n",
              "ba                 0\n",
              "bgr               12\n",
              "bu                 2\n",
              "sc                 2\n",
              "sod               14\n",
              "pot               14\n",
              "hemo               5\n",
              "pcv               10\n",
              "wc                18\n",
              "rc                24\n",
              "htn                0\n",
              "dm                 0\n",
              "cad                0\n",
              "appet              0\n",
              "pe                 0\n",
              "ane                0\n",
              "classification     0\n",
              "dtype: int64"
            ]
          },
          "metadata": {
            "tags": []
          },
          "execution_count": 6
        },
        {
          "output_type": "display_data",
          "data": {
            "image/png": "[encoded data removed]",
            "text/plain": [
              "<Figure size 432x288 with 1 Axes>"
            ]
          },
          "metadata": {
            "tags": [],
            "needs_background": "light"
          }
        }
      ]
    },
    {
      "cell_type": "code",
      "metadata": {
        "id": "N_OvL6vWur-L",
        "colab": {
          "base_uri": "https://localhost:8080/",
          "height": 1000
        },
        "outputId": "bc4a6d3f-781b-483e-ebe2-fa930460ff6b"
      },
      "source": [
        "#Hubungan anemia dengan hemoglobin (dicek dari data tidak anemia)\n",
        "data_ane2 = dataset[dataset['ane']=='no']   #data yang tidak anemia\n",
        "data_ane_hemo2 = data_ane2[['hemo','ane']]  #data hemoglobin yang tidak anemia\n",
        "print(data_ane_hemo2)       \n",
        "data_ane3 = data_ane2[data_ane2['hemo']<12]     #data yang tidak anemia tetapi hemoglobin < 1\n",
        "print(data_ane3)\n",
        "print(data_ane2['hemo'].describe())       #statistik hemoglobin yang tidak anemia\n",
        "data_ane2['hemo'].hist()      #histogram hemoglobin yang tidak anemia\n",
        "print(data_ane3[['hemo','age','rbc','ane']])\n",
        "data_ane2.isnull().sum()"
      ],
      "execution_count": null,
      "outputs": [
        {
          "output_type": "stream",
          "text": [
            "     hemo ane\n",
            "0    15.4  no\n",
            "1    11.3  no\n",
            "4    11.6  no\n",
            "5    12.2  no\n",
            "6    12.4  no\n",
            "..    ...  ..\n",
            "395  15.7  no\n",
            "396  16.5  no\n",
            "397  15.8  no\n",
            "398  14.2  no\n",
            "399  15.8  no\n",
            "\n",
            "[339 rows x 2 columns]\n",
            "      id   age     bp     sg   al   su  ...   dm  cad appet   pe  ane  classification\n",
            "1      1   7.0   50.0  1.020  4.0  0.0  ...   no   no  good   no   no             ckd\n",
            "4      4  51.0   80.0  1.010  2.0  0.0  ...   no   no  good   no   no             ckd\n",
            "11    11  63.0   70.0  1.010  3.0  0.0  ...  yes   no  poor  yes   no             ckd\n",
            "12    12  68.0   70.0  1.015  3.0  1.0  ...  yes  yes  poor  yes   no             ckd\n",
            "13    13  68.0   70.0    NaN  NaN  NaN  ...  yes  yes  poor  yes   no             ckd\n",
            "..   ...   ...    ...    ...  ...  ...  ...  ...  ...   ...  ...  ...             ...\n",
            "236  236  65.0   80.0    NaN  NaN  NaN  ...  yes  yes  good  yes   no             ckd\n",
            "239  239  34.0   90.0  1.015  2.0  0.0  ...   no   no  good   no   no             ckd\n",
            "240  240  65.0   70.0  1.015  1.0  0.0  ...  yes   no  poor  yes   no             ckd\n",
            "241  241  57.0   70.0  1.015  1.0  0.0  ...   no   no  good   no   no             ckd\n",
            "245  245  48.0  100.0    NaN  NaN  NaN  ...   no  yes  poor   no   no             ckd\n",
            "\n",
            "[96 rows x 26 columns]\n",
            "count    292.000000\n",
            "mean      13.257877\n",
            "std        2.453843\n",
            "min        5.600000\n",
            "25%       11.300000\n",
            "50%       13.500000\n",
            "75%       15.100000\n",
            "max       17.800000\n",
            "Name: hemo, dtype: float64\n",
            "     hemo   age       rbc ane\n",
            "1    11.3   7.0       NaN  no\n",
            "4    11.6  51.0    normal  no\n",
            "11   10.8  63.0  abnormal  no\n",
            "12    9.7  68.0       NaN  no\n",
            "13    9.8  68.0       NaN  no\n",
            "..    ...   ...       ...  ..\n",
            "236   9.1  65.0       NaN  no\n",
            "239  11.9  34.0    normal  no\n",
            "240  11.4  65.0       NaN  no\n",
            "241  10.4  57.0       NaN  no\n",
            "245   6.3  48.0       NaN  no\n",
            "\n",
            "[96 rows x 4 columns]\n"
          ],
          "name": "stdout"
        },
        {
          "output_type": "execute_result",
          "data": {
            "text/plain": [
              "id                  0\n",
              "age                 6\n",
              "bp                 10\n",
              "sg                 32\n",
              "al                 31\n",
              "su                 34\n",
              "rbc               123\n",
              "pc                 50\n",
              "pcc                 4\n",
              "ba                  4\n",
              "bgr                32\n",
              "bu                 17\n",
              "sc                 15\n",
              "sod                73\n",
              "pot                74\n",
              "hemo               47\n",
              "pcv                61\n",
              "wc                 88\n",
              "rc                107\n",
              "htn                 2\n",
              "dm                  2\n",
              "cad                 2\n",
              "appet               0\n",
              "pe                  0\n",
              "ane                 0\n",
              "classification      0\n",
              "dtype: int64"
            ]
          },
          "metadata": {
            "tags": []
          },
          "execution_count": 7
        },
        {
          "output_type": "display_data",
          "data": {
            "image/png": "[encoded data removed]",
            "text/plain": [
              "<Figure size 432x288 with 1 Axes>"
            ]
          },
          "metadata": {
            "tags": [],
            "needs_background": "light"
          }
        }
      ]
    },
    {
      "cell_type": "code",
      "metadata": {
        "id": "H91zavgsuyWx"
      },
      "source": [
        "#Memasukan missing data age dan hemo berdasarkan MEAN\n",
        "dataset['age'] = dataset['age'].replace(np.nan,51)\n",
        "dataset['hemo']= dataset['hemo'].replace(np.nan, 12.5)"
      ],
      "execution_count": null,
      "outputs": []
    },
    {
      "cell_type": "code",
      "metadata": {
        "id": "WqzJq9adxHO-",
        "colab": {
          "base_uri": "https://localhost:8080/",
          "height": 82
        },
        "outputId": "e4622ebc-7017-4643-fe4b-c906fa542612"
      },
      "source": [
        "#Melihat hubungan Hemoglobin dan PCV (untuk regresi)\n",
        "dataset_cc = dataset.dropna(axis = 0)\n",
        "dataset_hemo_pcv = dataset[['hemo','pcv']]\n",
        "corr1 = dataset_hemo_pcv.corr()\n",
        "corr1.style.background_gradient(cmap='coolwarm').set_precision(2)"
      ],
      "execution_count": null,
      "outputs": [
        {
          "output_type": "execute_result",
          "data": {
            "text/html": [
              "<style  type=\"text/css\" >\n",
              "#T_146fb11e_b208_11eb_b92f_0242ac1c0002row0_col0,#T_146fb11e_b208_11eb_b92f_0242ac1c0002row1_col1{\n",
              "            background-color:  #b40426;\n",
              "            color:  #f1f1f1;\n",
              "        }#T_146fb11e_b208_11eb_b92f_0242ac1c0002row0_col1,#T_146fb11e_b208_11eb_b92f_0242ac1c0002row1_col0{\n",
              "            background-color:  #3b4cc0;\n",
              "            color:  #f1f1f1;\n",
              "        }</style><table id=\"T_146fb11e_b208_11eb_b92f_0242ac1c0002\" ><thead>    <tr>        <th class=\"blank level0\" ></th>        <th class=\"col_heading level0 col0\" >hemo</th>        <th class=\"col_heading level0 col1\" >pcv</th>    </tr></thead><tbody>\n",
              "                <tr>\n",
              "                        <th id=\"T_146fb11e_b208_11eb_b92f_0242ac1c0002level0_row0\" class=\"row_heading level0 row0\" >hemo</th>\n",
              "                        <td id=\"T_146fb11e_b208_11eb_b92f_0242ac1c0002row0_col0\" class=\"data row0 col0\" >1.00</td>\n",
              "                        <td id=\"T_146fb11e_b208_11eb_b92f_0242ac1c0002row0_col1\" class=\"data row0 col1\" >0.89</td>\n",
              "            </tr>\n",
              "            <tr>\n",
              "                        <th id=\"T_146fb11e_b208_11eb_b92f_0242ac1c0002level0_row1\" class=\"row_heading level0 row1\" >pcv</th>\n",
              "                        <td id=\"T_146fb11e_b208_11eb_b92f_0242ac1c0002row1_col0\" class=\"data row1 col0\" >0.89</td>\n",
              "                        <td id=\"T_146fb11e_b208_11eb_b92f_0242ac1c0002row1_col1\" class=\"data row1 col1\" >1.00</td>\n",
              "            </tr>\n",
              "    </tbody></table>"
            ],
            "text/plain": [
              "<pandas.io.formats.style.Styler at 0x7f06f4bbdb50>"
            ]
          },
          "metadata": {
            "tags": []
          },
          "execution_count": 9
        }
      ]
    },
    {
      "cell_type": "code",
      "metadata": {
        "id": "LSm3syGlx_p1"
      },
      "source": [
        "dataset_hemo_pcv = dataset.dropna(axis = 0, subset = ['hemo','pcv'])\n",
        "dataset_hemo_pcv = dataset_hemo_pcv.loc[:,['hemo','pcv']]\n",
        "missing_pcv = dataset['pcv'].isnull()\n",
        "hemo_mispcv = pd.DataFrame(dataset['hemo'][missing_pcv])"
      ],
      "execution_count": null,
      "outputs": []
    },
    {
      "cell_type": "code",
      "metadata": {
        "id": "rAgiVAHMyGBo"
      },
      "source": [
        "x1 = dataset_hemo_pcv[['hemo']]\n",
        "y1 = dataset_hemo_pcv[['pcv']]\n",
        "from sklearn.model_selection import train_test_split\n",
        "\n",
        "x1_train, x1_test, y1_train, y1_test = train_test_split(x1,y1, test_size = 0.2, random_state =101)\n",
        "from sklearn.linear_model import LinearRegression\n",
        "lm = LinearRegression().fit(x1_train, y1_train)\n",
        "pcv_pred = lm.predict(hemo_mispcv)"
      ],
      "execution_count": null,
      "outputs": []
    },
    {
      "cell_type": "code",
      "metadata": {
        "id": "sKb58I_3yNGX"
      },
      "source": [
        "# Memasukan missing data pcv berdasarkan Regresi dengan Hemo\n",
        "dataset.loc[dataset['pcv'].isnull(),'pcv'] = pcv_pred"
      ],
      "execution_count": null,
      "outputs": []
    },
    {
      "cell_type": "code",
      "metadata": {
        "id": "i_aYtq2PyliK",
        "colab": {
          "base_uri": "https://localhost:8080/",
          "height": 82
        },
        "outputId": "51eb6c02-c299-4296-e43c-6d712f7fefda"
      },
      "source": [
        "# Melihat hubungan Hemoglobin dan Red Blood Cell Cost (untuk regresi)\n",
        "dataset_cc = dataset.dropna(axis = 0)\n",
        "dataset_hemo_rc = dataset[['hemo','rc']]\n",
        "corr = dataset_hemo_rc.corr()\n",
        "corr.style.background_gradient(cmap='coolwarm').set_precision(2)"
      ],
      "execution_count": null,
      "outputs": [
        {
          "output_type": "execute_result",
          "data": {
            "text/html": [
              "<style  type=\"text/css\" >\n",
              "#T_1c8449b4_b208_11eb_b92f_0242ac1c0002row0_col0,#T_1c8449b4_b208_11eb_b92f_0242ac1c0002row1_col1{\n",
              "            background-color:  #b40426;\n",
              "            color:  #f1f1f1;\n",
              "        }#T_1c8449b4_b208_11eb_b92f_0242ac1c0002row0_col1,#T_1c8449b4_b208_11eb_b92f_0242ac1c0002row1_col0{\n",
              "            background-color:  #3b4cc0;\n",
              "            color:  #f1f1f1;\n",
              "        }</style><table id=\"T_1c8449b4_b208_11eb_b92f_0242ac1c0002\" ><thead>    <tr>        <th class=\"blank level0\" ></th>        <th class=\"col_heading level0 col0\" >hemo</th>        <th class=\"col_heading level0 col1\" >rc</th>    </tr></thead><tbody>\n",
              "                <tr>\n",
              "                        <th id=\"T_1c8449b4_b208_11eb_b92f_0242ac1c0002level0_row0\" class=\"row_heading level0 row0\" >hemo</th>\n",
              "                        <td id=\"T_1c8449b4_b208_11eb_b92f_0242ac1c0002row0_col0\" class=\"data row0 col0\" >1.00</td>\n",
              "                        <td id=\"T_1c8449b4_b208_11eb_b92f_0242ac1c0002row0_col1\" class=\"data row0 col1\" >0.79</td>\n",
              "            </tr>\n",
              "            <tr>\n",
              "                        <th id=\"T_1c8449b4_b208_11eb_b92f_0242ac1c0002level0_row1\" class=\"row_heading level0 row1\" >rc</th>\n",
              "                        <td id=\"T_1c8449b4_b208_11eb_b92f_0242ac1c0002row1_col0\" class=\"data row1 col0\" >0.79</td>\n",
              "                        <td id=\"T_1c8449b4_b208_11eb_b92f_0242ac1c0002row1_col1\" class=\"data row1 col1\" >1.00</td>\n",
              "            </tr>\n",
              "    </tbody></table>"
            ],
            "text/plain": [
              "<pandas.io.formats.style.Styler at 0x7f06f48d6310>"
            ]
          },
          "metadata": {
            "tags": []
          },
          "execution_count": 13
        }
      ]
    },
    {
      "cell_type": "code",
      "metadata": {
        "id": "mpIB7GBxy6K3"
      },
      "source": [
        "dataset_hemo_rc1 = dataset.dropna(axis = 0, subset = ['hemo','rc'])\n",
        "dataset_hemo_rc1 = dataset_hemo_rc1.loc[:,['hemo','rc']]\n",
        "missing_rc= dataset['rc'].isnull()\n",
        "hemo_misrc = pd.DataFrame(dataset['hemo'][missing_rc])"
      ],
      "execution_count": null,
      "outputs": []
    },
    {
      "cell_type": "code",
      "metadata": {
        "id": "13q3xQzxFzbB"
      },
      "source": [
        "x = dataset_hemo_rc1[['hemo']]\n",
        "y = dataset_hemo_rc1[['rc']]\n",
        "from sklearn.model_selection import train_test_split\n",
        "\n",
        "x_train, x_test, y_train, y_test = train_test_split(x,y, test_size = 0.2, random_state =101)\n",
        "from sklearn.linear_model import LinearRegression\n",
        "lm = LinearRegression().fit(x_train, y_train)\n",
        "rc_pred = lm.predict(hemo_misrc)"
      ],
      "execution_count": null,
      "outputs": []
    },
    {
      "cell_type": "code",
      "metadata": {
        "id": "K0Cwb-7PF6PZ"
      },
      "source": [
        "# Memasukan missing data rc berdasarkan Regresi dengan Hemo\n",
        "dataset.loc[dataset['rc'].isnull(),'rc'] = rc_pred"
      ],
      "execution_count": null,
      "outputs": []
    },
    {
      "cell_type": "code",
      "metadata": {
        "colab": {
          "base_uri": "https://localhost:8080/"
        },
        "id": "xu3yYNQpGgZ2",
        "outputId": "21fb147c-b4b4-4d70-d6a3-8619dcdae77f"
      },
      "source": [
        "dataset['htn']=dataset['htn'].replace(np.nan,'no')\n",
        "data_bpno = dataset[dataset['htn']=='no'] \n",
        "data_bpyes = dataset[dataset['htn']=='yes'] \n",
        "print(data_bpno['bp'].describe())\n",
        "print(data_bpyes['bp'].describe())\n",
        "data_bpno['bp'] = data_bpno['bp'].replace(np.nan,70)\n",
        "data_bpyes['bp'] = data_bpyes['bp'].replace(np.nan,80)\n",
        "dataset = pd.concat([data_bpno,data_bpyes])\n",
        "dataset.isnull().sum()"
      ],
      "execution_count": null,
      "outputs": [
        {
          "output_type": "stream",
          "text": [
            "count    243.000000\n",
            "mean      73.580247\n",
            "std       10.753663\n",
            "min       50.000000\n",
            "25%       70.000000\n",
            "50%       70.000000\n",
            "75%       80.000000\n",
            "max      120.000000\n",
            "Name: bp, dtype: float64\n",
            "count    145.000000\n",
            "mean      81.310345\n",
            "std       16.467779\n",
            "min       50.000000\n",
            "25%       70.000000\n",
            "50%       80.000000\n",
            "75%       90.000000\n",
            "max      180.000000\n",
            "Name: bp, dtype: float64\n"
          ],
          "name": "stdout"
        },
        {
          "output_type": "stream",
          "text": [
            "/usr/local/lib/python3.7/dist-packages/ipykernel_launcher.py:6: SettingWithCopyWarning: \n",
            "A value is trying to be set on a copy of a slice from a DataFrame.\n",
            "Try using .loc[row_indexer,col_indexer] = value instead\n",
            "\n",
            "See the caveats in the documentation: https://pandas.pydata.org/pandas-docs/stable/user_guide/indexing.html#returning-a-view-versus-a-copy\n",
            "  \n",
            "/usr/local/lib/python3.7/dist-packages/ipykernel_launcher.py:7: SettingWithCopyWarning: \n",
            "A value is trying to be set on a copy of a slice from a DataFrame.\n",
            "Try using .loc[row_indexer,col_indexer] = value instead\n",
            "\n",
            "See the caveats in the documentation: https://pandas.pydata.org/pandas-docs/stable/user_guide/indexing.html#returning-a-view-versus-a-copy\n",
            "  import sys\n"
          ],
          "name": "stderr"
        },
        {
          "output_type": "execute_result",
          "data": {
            "text/plain": [
              "id                  0\n",
              "age                 0\n",
              "bp                  0\n",
              "sg                 47\n",
              "al                 46\n",
              "su                 49\n",
              "rbc               152\n",
              "pc                 65\n",
              "pcc                 4\n",
              "ba                  4\n",
              "bgr                44\n",
              "bu                 19\n",
              "sc                 17\n",
              "sod                87\n",
              "pot                88\n",
              "hemo                0\n",
              "pcv                 0\n",
              "wc                106\n",
              "rc                  0\n",
              "htn                 0\n",
              "dm                  2\n",
              "cad                 2\n",
              "appet               1\n",
              "pe                  1\n",
              "ane                 1\n",
              "classification      0\n",
              "dtype: int64"
            ]
          },
          "metadata": {
            "tags": []
          },
          "execution_count": 17
        }
      ]
    },
    {
      "cell_type": "code",
      "metadata": {
        "colab": {
          "base_uri": "https://localhost:8080/"
        },
        "id": "fyPCjP_4Gqiz",
        "outputId": "e72cbda9-0157-4d3b-9066-9f4026ad6bd3"
      },
      "source": [
        "# Memasukan missing data pcc (notpresent) dan pc (berdasarkan pcc, [notpresent > normal]; [present;abnormal])\n",
        "dataset['pcc']=dataset['pcc'].replace(np.nan,'notpresent')\n",
        "data_pcnormal = dataset[dataset['pcc']=='notpresent']\n",
        "data_pcnormal['pc'] = data_pcnormal['pc'].replace(np.nan,'normal')\n",
        "data_pcabnormal = dataset[dataset['pcc']=='present']\n",
        "data_pcabnormal['pc'] = data_pcabnormal['pc'].replace(np.nan, 'abnormal')\n",
        "\n",
        "dataset = pd.concat([data_pcnormal,data_pcabnormal])"
      ],
      "execution_count": null,
      "outputs": [
        {
          "output_type": "stream",
          "text": [
            "/usr/local/lib/python3.7/dist-packages/ipykernel_launcher.py:4: SettingWithCopyWarning: \n",
            "A value is trying to be set on a copy of a slice from a DataFrame.\n",
            "Try using .loc[row_indexer,col_indexer] = value instead\n",
            "\n",
            "See the caveats in the documentation: https://pandas.pydata.org/pandas-docs/stable/user_guide/indexing.html#returning-a-view-versus-a-copy\n",
            "  after removing the cwd from sys.path.\n",
            "/usr/local/lib/python3.7/dist-packages/ipykernel_launcher.py:6: SettingWithCopyWarning: \n",
            "A value is trying to be set on a copy of a slice from a DataFrame.\n",
            "Try using .loc[row_indexer,col_indexer] = value instead\n",
            "\n",
            "See the caveats in the documentation: https://pandas.pydata.org/pandas-docs/stable/user_guide/indexing.html#returning-a-view-versus-a-copy\n",
            "  \n"
          ],
          "name": "stderr"
        }
      ]
    },
    {
      "cell_type": "code",
      "metadata": {
        "id": "iIEIIb6iGx2y"
      },
      "source": [
        "# Memasukan missing data dm (no), cad(no),appet(good),pe(no),dan ane(no)\n",
        "dataset['dm']=dataset['dm'].replace(np.nan,'no')\n",
        "dataset['cad']=dataset['cad'].replace(np.nan,'no')\n",
        "dataset['appet']=dataset['appet'].replace(np.nan,'good')\n",
        "dataset['pe']=dataset['pe'].replace(np.nan,'no')\n",
        "dataset['ane']=dataset['ane'].replace(np.nan,'no')\n"
      ],
      "execution_count": null,
      "outputs": []
    },
    {
      "cell_type": "code",
      "metadata": {
        "colab": {
          "base_uri": "https://localhost:8080/"
        },
        "id": "aIptUjo3HQBN",
        "outputId": "13799a03-06dd-49b6-87f7-9ee27435d4a6"
      },
      "source": [
        "datasu_notckd = dataset[dataset['classification']=='notckd']\n",
        "datasu_ckd = dataset[dataset['classification']=='ckd']\n",
        "\n",
        "datasu_notckd['su'] = datasu_notckd['su'].replace(np.nan, 0)\n",
        "\n",
        "dataset = pd.concat([datasu_notckd,datasu_ckd])\n",
        "\n",
        "data_su0 = dataset[dataset['su']==0]\n",
        "data_su1 = dataset[dataset['su']==1]\n",
        "data_su2 = dataset[dataset['su']==2]\n",
        "data_su3 = dataset[dataset['su']==3]\n",
        "data_su4 = dataset[dataset['su']==4]\n",
        "data_su5 = dataset[dataset['su']==5]\n",
        "data_su6 = dataset[dataset['su'].isnull()]\n",
        "\n",
        "print(data_su0['bgr'].mean())\n",
        "print(data_su1['bgr'].mean())\n",
        "print(data_su2['bgr'].mean())\n",
        "print(data_su3['bgr'].mean())\n",
        "print(data_su4['bgr'].mean())\n",
        "print(data_su5['bgr'].mean())\n",
        "print(datasu_ckd['bgr'].mean())\n",
        "\n",
        "data_su0['bgr']=data_su0['bgr'].replace(np.nan,122)\n",
        "data_su1['bgr']=data_su1['bgr'].replace(np.nan,213)\n",
        "data_su2['bgr']=data_su2['bgr'].replace(np.nan,256)\n",
        "data_su3['bgr']=data_su3['bgr'].replace(np.nan,269)\n",
        "data_su4['bgr']=data_su4['bgr'].replace(np.nan,302)\n",
        "\n",
        "dataset = pd.concat([data_su0,data_su1,data_su2,data_su3,data_su4,data_su5,data_su6])\n",
        "dataset['bgr'] = dataset['bgr'].replace(np.nan,172)"
      ],
      "execution_count": null,
      "outputs": [
        {
          "output_type": "stream",
          "text": [
            "121.8135593220339\n",
            "213.6153846153846\n",
            "255.83333333333334\n",
            "269.0\n",
            "302.38461538461536\n",
            "394.3333333333333\n",
            "172.004\n"
          ],
          "name": "stdout"
        },
        {
          "output_type": "stream",
          "text": [
            "/usr/local/lib/python3.7/dist-packages/ipykernel_launcher.py:4: SettingWithCopyWarning: \n",
            "A value is trying to be set on a copy of a slice from a DataFrame.\n",
            "Try using .loc[row_indexer,col_indexer] = value instead\n",
            "\n",
            "See the caveats in the documentation: https://pandas.pydata.org/pandas-docs/stable/user_guide/indexing.html#returning-a-view-versus-a-copy\n",
            "  after removing the cwd from sys.path.\n",
            "/usr/local/lib/python3.7/dist-packages/ipykernel_launcher.py:24: SettingWithCopyWarning: \n",
            "A value is trying to be set on a copy of a slice from a DataFrame.\n",
            "Try using .loc[row_indexer,col_indexer] = value instead\n",
            "\n",
            "See the caveats in the documentation: https://pandas.pydata.org/pandas-docs/stable/user_guide/indexing.html#returning-a-view-versus-a-copy\n",
            "/usr/local/lib/python3.7/dist-packages/ipykernel_launcher.py:25: SettingWithCopyWarning: \n",
            "A value is trying to be set on a copy of a slice from a DataFrame.\n",
            "Try using .loc[row_indexer,col_indexer] = value instead\n",
            "\n",
            "See the caveats in the documentation: https://pandas.pydata.org/pandas-docs/stable/user_guide/indexing.html#returning-a-view-versus-a-copy\n",
            "/usr/local/lib/python3.7/dist-packages/ipykernel_launcher.py:26: SettingWithCopyWarning: \n",
            "A value is trying to be set on a copy of a slice from a DataFrame.\n",
            "Try using .loc[row_indexer,col_indexer] = value instead\n",
            "\n",
            "See the caveats in the documentation: https://pandas.pydata.org/pandas-docs/stable/user_guide/indexing.html#returning-a-view-versus-a-copy\n",
            "/usr/local/lib/python3.7/dist-packages/ipykernel_launcher.py:27: SettingWithCopyWarning: \n",
            "A value is trying to be set on a copy of a slice from a DataFrame.\n",
            "Try using .loc[row_indexer,col_indexer] = value instead\n",
            "\n",
            "See the caveats in the documentation: https://pandas.pydata.org/pandas-docs/stable/user_guide/indexing.html#returning-a-view-versus-a-copy\n",
            "/usr/local/lib/python3.7/dist-packages/ipykernel_launcher.py:28: SettingWithCopyWarning: \n",
            "A value is trying to be set on a copy of a slice from a DataFrame.\n",
            "Try using .loc[row_indexer,col_indexer] = value instead\n",
            "\n",
            "See the caveats in the documentation: https://pandas.pydata.org/pandas-docs/stable/user_guide/indexing.html#returning-a-view-versus-a-copy\n"
          ],
          "name": "stderr"
        }
      ]
    },
    {
      "cell_type": "code",
      "metadata": {
        "colab": {
          "base_uri": "https://localhost:8080/"
        },
        "id": "bG8sFx9cHe_N",
        "outputId": "afd8c6f3-cb9d-4ec7-90a3-7fa68e51b506"
      },
      "source": [
        "# Melihat mean dari bu, sc, sod, pot, dan sg\n",
        "print(dataset['bu'].mean())\n",
        "print(dataset['sc'].mean())\n",
        "print(dataset['sod'].mean())\n",
        "print(dataset['pot'].mean())\n",
        "print(dataset['sg'].mean())\n",
        "# # Memasukan missing data bu, sc, sod, pot, sg, ba berdasarkan mean\n",
        "dataset['bu']=dataset['bu'].replace(np.nan, 57)\n",
        "dataset['sc']=dataset['sc'].replace(np.nan, 3.1 )\n",
        "dataset['sod']=dataset['sod'].replace(np.nan,138 )\n",
        "dataset['pot']=dataset['pot'].replace(np.nan, 4.6)\n",
        "dataset['sg']=dataset['sg'].replace(np.nan,1.017 )\n",
        "dataset['ba']=dataset['ba'].replace(np.nan,'notpresent' )"
      ],
      "execution_count": null,
      "outputs": [
        {
          "output_type": "stream",
          "text": [
            "57.4257217847769\n",
            "3.0724543080939943\n",
            "137.52875399361022\n",
            "4.6272435897435935\n",
            "1.0174079320113267\n"
          ],
          "name": "stdout"
        }
      ]
    },
    {
      "cell_type": "code",
      "metadata": {
        "colab": {
          "base_uri": "https://localhost:8080/",
          "height": 418
        },
        "id": "FQw57WM-HmDE",
        "outputId": "a5282c92-705b-4532-ef04-b5fc2761e40d"
      },
      "source": [
        "# Melihat data untuk White Blood Cell (wc)\n",
        "print(dataset['wc'].describe())\n",
        "dataset['wc'].hist()\n",
        "# # Memasukan missing data wc berdasarkan median\n",
        "dataset['wc'] = dataset['wc'].replace(np.nan, 8)"
      ],
      "execution_count": null,
      "outputs": [
        {
          "output_type": "stream",
          "text": [
            "count      294.000000\n",
            "mean      8406.122449\n",
            "std       2944.474190\n",
            "min       2200.000000\n",
            "25%       6500.000000\n",
            "50%       8000.000000\n",
            "75%       9800.000000\n",
            "max      26400.000000\n",
            "Name: wc, dtype: float64\n"
          ],
          "name": "stdout"
        },
        {
          "output_type": "display_data",
          "data": {
            "image/png": "[encoded data removed]",
            "text/plain": [
              "<Figure size 432x288 with 1 Axes>"
            ]
          },
          "metadata": {
            "tags": [],
            "needs_background": "light"
          }
        }
      ]
    },
    {
      "cell_type": "code",
      "metadata": {
        "colab": {
          "base_uri": "https://localhost:8080/"
        },
        "id": "tFt5lTQEOneV",
        "outputId": "4ee55fc3-c0bf-4293-d958-5bc61c528c63"
      },
      "source": [
        "dataset.isnull().sum()"
      ],
      "execution_count": null,
      "outputs": [
        {
          "output_type": "execute_result",
          "data": {
            "text/plain": [
              "id                  0\n",
              "age                 0\n",
              "bp                  0\n",
              "sg                  0\n",
              "al                 46\n",
              "su                 44\n",
              "rbc               152\n",
              "pc                  0\n",
              "pcc                 0\n",
              "ba                  0\n",
              "bgr                 0\n",
              "bu                  0\n",
              "sc                  0\n",
              "sod                 0\n",
              "pot                 0\n",
              "hemo                0\n",
              "pcv                 0\n",
              "wc                  0\n",
              "rc                  0\n",
              "htn                 0\n",
              "dm                  0\n",
              "cad                 0\n",
              "appet               0\n",
              "pe                  0\n",
              "ane                 0\n",
              "classification      0\n",
              "dtype: int64"
            ]
          },
          "metadata": {
            "tags": []
          },
          "execution_count": 24
        }
      ]
    },
    {
      "cell_type": "code",
      "metadata": {
        "colab": {
          "base_uri": "https://localhost:8080/"
        },
        "id": "jpQD_JakHyco",
        "outputId": "1b6cb5cf-c397-49b5-d358-a064634ff242"
      },
      "source": [
        "# Menghilangkan kolom rbc (Red Blood Cell)\n",
        "dataset = dataset.drop(['rbc'], axis=1)\n",
        "# Menghilangkan baris yang masih ada missing value\n",
        "dataset = dataset.dropna(axis=0)\n",
        "# Melihat missing value yang ada\n",
        "dataset.isnull().sum()"
      ],
      "execution_count": null,
      "outputs": [
        {
          "output_type": "execute_result",
          "data": {
            "text/plain": [
              "id                0\n",
              "age               0\n",
              "bp                0\n",
              "sg                0\n",
              "al                0\n",
              "su                0\n",
              "pc                0\n",
              "pcc               0\n",
              "ba                0\n",
              "bgr               0\n",
              "bu                0\n",
              "sc                0\n",
              "sod               0\n",
              "pot               0\n",
              "hemo              0\n",
              "pcv               0\n",
              "wc                0\n",
              "rc                0\n",
              "htn               0\n",
              "dm                0\n",
              "cad               0\n",
              "appet             0\n",
              "pe                0\n",
              "ane               0\n",
              "classification    0\n",
              "dtype: int64"
            ]
          },
          "metadata": {
            "tags": []
          },
          "execution_count": 25
        }
      ]
    },
    {
      "cell_type": "code",
      "metadata": {
        "colab": {
          "base_uri": "https://localhost:8080/"
        },
        "id": "XbX59xIHH_Wm",
        "outputId": "679da836-cdde-49bc-da35-786003208d5b"
      },
      "source": [
        "# merapihkan beberapa data yang typo dan di cek\n",
        "dataset['appet']=dataset['appet'].replace('poof','poor')\n",
        "dataset['appet']=dataset['appet'].replace('goof','good')\n",
        "\n",
        "print(pd.unique(dataset['appet']))\n",
        "print(pd.unique(dataset['cad']))\n",
        "dataset['cad']=dataset['cad'].replace('no ','no')\n",
        "print(pd.unique(dataset['dm']))\n",
        "print(pd.unique(dataset['htn']))\n",
        "print(pd.unique(dataset['pe']))\n",
        "print(pd.unique(dataset['ane']))\n",
        "print(pd.unique(dataset['pc']))\n",
        "print(pd.unique(dataset['pcc']))\n",
        "print(pd.unique(dataset['ba']))"
      ],
      "execution_count": null,
      "outputs": [
        {
          "output_type": "stream",
          "text": [
            "['good' 'poor']\n",
            "['no' 'yes' 'no ']\n",
            "['no' 'yes']\n",
            "['no' 'yes']\n",
            "['no' 'yes']\n",
            "['no' 'yes']\n",
            "['normal' 'abnormal']\n",
            "['notpresent' 'present']\n",
            "['notpresent' 'present']\n"
          ],
          "name": "stdout"
        }
      ]
    },
    {
      "cell_type": "code",
      "metadata": {
        "id": "kIFjxt9UIA8Y"
      },
      "source": [
        "# Mengubah data nominal\n",
        "from sklearn.preprocessing import LabelEncoder\n",
        "label_1 = LabelEncoder()\n",
        "dataset['pc'] = label_1.fit_transform(dataset['pc'])\n",
        "label_2 = LabelEncoder()\n",
        "dataset['pcc'] = label_2.fit_transform(dataset['pcc'])\n",
        "label_3 = LabelEncoder()\n",
        "dataset['ba'] = label_3.fit_transform(dataset['ba'])\n",
        "label_4 = LabelEncoder()\n",
        "dataset['htn'] = label_4.fit_transform(dataset['htn'])\n",
        "label_5 = LabelEncoder()\n",
        "dataset['dm'] = label_5.fit_transform(dataset['dm'])\n",
        "label_6 = LabelEncoder()\n",
        "dataset['cad'] = label_6.fit_transform(dataset['cad'])\n",
        "label_8 = LabelEncoder()\n",
        "dataset['pe'] = label_8.fit_transform(dataset['pe'])\n",
        "label_9 = LabelEncoder()\n",
        "dataset['ane'] = label_9.fit_transform(dataset['ane'])\n",
        "label_10 = LabelEncoder()\n",
        "dataset['appet'] = label_9.fit_transform(dataset['appet'])\n",
        "\n",
        "dataset['classification']=dataset['classification'].replace('ckd',1)\n",
        "dataset['classification']=dataset['classification'].replace('notckd',0)"
      ],
      "execution_count": null,
      "outputs": []
    },
    {
      "cell_type": "code",
      "metadata": {
        "colab": {
          "base_uri": "https://localhost:8080/",
          "height": 204
        },
        "id": "ZDSZ7v4lIGTi",
        "outputId": "0b600915-a431-491a-8c06-296a1856f976"
      },
      "source": [
        "dataset.sort_values(by=['id'],inplace=True)\n",
        "dataset.head()"
      ],
      "execution_count": null,
      "outputs": [
        {
          "output_type": "execute_result",
          "data": {
            "text/html": [
              "<div>\n",
              "<style scoped>\n",
              "    .dataframe tbody tr th:only-of-type {\n",
              "        vertical-align: middle;\n",
              "    }\n",
              "\n",
              "    .dataframe tbody tr th {\n",
              "        vertical-align: top;\n",
              "    }\n",
              "\n",
              "    .dataframe thead th {\n",
              "        text-align: right;\n",
              "    }\n",
              "</style>\n",
              "<table border=\"1\" class=\"dataframe\">\n",
              "  <thead>\n",
              "    <tr style=\"text-align: right;\">\n",
              "      <th></th>\n",
              "      <th>id</th>\n",
              "      <th>age</th>\n",
              "      <th>bp</th>\n",
              "      <th>sg</th>\n",
              "      <th>al</th>\n",
              "      <th>su</th>\n",
              "      <th>pc</th>\n",
              "      <th>pcc</th>\n",
              "      <th>ba</th>\n",
              "      <th>bgr</th>\n",
              "      <th>bu</th>\n",
              "      <th>sc</th>\n",
              "      <th>sod</th>\n",
              "      <th>pot</th>\n",
              "      <th>hemo</th>\n",
              "      <th>pcv</th>\n",
              "      <th>wc</th>\n",
              "      <th>rc</th>\n",
              "      <th>htn</th>\n",
              "      <th>dm</th>\n",
              "      <th>cad</th>\n",
              "      <th>appet</th>\n",
              "      <th>pe</th>\n",
              "      <th>ane</th>\n",
              "      <th>classification</th>\n",
              "    </tr>\n",
              "  </thead>\n",
              "  <tbody>\n",
              "    <tr>\n",
              "      <th>0</th>\n",
              "      <td>0</td>\n",
              "      <td>48.0</td>\n",
              "      <td>80.0</td>\n",
              "      <td>1.020</td>\n",
              "      <td>1.0</td>\n",
              "      <td>0.0</td>\n",
              "      <td>1</td>\n",
              "      <td>0</td>\n",
              "      <td>0</td>\n",
              "      <td>121.0</td>\n",
              "      <td>36.0</td>\n",
              "      <td>1.2</td>\n",
              "      <td>138.0</td>\n",
              "      <td>4.6</td>\n",
              "      <td>15.4</td>\n",
              "      <td>44.0</td>\n",
              "      <td>7800.0</td>\n",
              "      <td>5.200000</td>\n",
              "      <td>1</td>\n",
              "      <td>1</td>\n",
              "      <td>0</td>\n",
              "      <td>0</td>\n",
              "      <td>0</td>\n",
              "      <td>0</td>\n",
              "      <td>1</td>\n",
              "    </tr>\n",
              "    <tr>\n",
              "      <th>1</th>\n",
              "      <td>1</td>\n",
              "      <td>7.0</td>\n",
              "      <td>50.0</td>\n",
              "      <td>1.020</td>\n",
              "      <td>4.0</td>\n",
              "      <td>0.0</td>\n",
              "      <td>1</td>\n",
              "      <td>0</td>\n",
              "      <td>0</td>\n",
              "      <td>122.0</td>\n",
              "      <td>18.0</td>\n",
              "      <td>0.8</td>\n",
              "      <td>138.0</td>\n",
              "      <td>4.6</td>\n",
              "      <td>11.3</td>\n",
              "      <td>38.0</td>\n",
              "      <td>6000.0</td>\n",
              "      <td>4.187400</td>\n",
              "      <td>0</td>\n",
              "      <td>0</td>\n",
              "      <td>0</td>\n",
              "      <td>0</td>\n",
              "      <td>0</td>\n",
              "      <td>0</td>\n",
              "      <td>1</td>\n",
              "    </tr>\n",
              "    <tr>\n",
              "      <th>2</th>\n",
              "      <td>2</td>\n",
              "      <td>62.0</td>\n",
              "      <td>80.0</td>\n",
              "      <td>1.010</td>\n",
              "      <td>2.0</td>\n",
              "      <td>3.0</td>\n",
              "      <td>1</td>\n",
              "      <td>0</td>\n",
              "      <td>0</td>\n",
              "      <td>423.0</td>\n",
              "      <td>53.0</td>\n",
              "      <td>1.8</td>\n",
              "      <td>138.0</td>\n",
              "      <td>4.6</td>\n",
              "      <td>9.6</td>\n",
              "      <td>31.0</td>\n",
              "      <td>7500.0</td>\n",
              "      <td>3.702609</td>\n",
              "      <td>0</td>\n",
              "      <td>1</td>\n",
              "      <td>0</td>\n",
              "      <td>1</td>\n",
              "      <td>0</td>\n",
              "      <td>1</td>\n",
              "      <td>1</td>\n",
              "    </tr>\n",
              "    <tr>\n",
              "      <th>3</th>\n",
              "      <td>3</td>\n",
              "      <td>48.0</td>\n",
              "      <td>70.0</td>\n",
              "      <td>1.005</td>\n",
              "      <td>4.0</td>\n",
              "      <td>0.0</td>\n",
              "      <td>0</td>\n",
              "      <td>1</td>\n",
              "      <td>0</td>\n",
              "      <td>117.0</td>\n",
              "      <td>56.0</td>\n",
              "      <td>3.8</td>\n",
              "      <td>111.0</td>\n",
              "      <td>2.5</td>\n",
              "      <td>11.2</td>\n",
              "      <td>32.0</td>\n",
              "      <td>6700.0</td>\n",
              "      <td>3.900000</td>\n",
              "      <td>1</td>\n",
              "      <td>0</td>\n",
              "      <td>0</td>\n",
              "      <td>1</td>\n",
              "      <td>1</td>\n",
              "      <td>1</td>\n",
              "      <td>1</td>\n",
              "    </tr>\n",
              "    <tr>\n",
              "      <th>4</th>\n",
              "      <td>4</td>\n",
              "      <td>51.0</td>\n",
              "      <td>80.0</td>\n",
              "      <td>1.010</td>\n",
              "      <td>2.0</td>\n",
              "      <td>0.0</td>\n",
              "      <td>1</td>\n",
              "      <td>0</td>\n",
              "      <td>0</td>\n",
              "      <td>106.0</td>\n",
              "      <td>26.0</td>\n",
              "      <td>1.4</td>\n",
              "      <td>138.0</td>\n",
              "      <td>4.6</td>\n",
              "      <td>11.6</td>\n",
              "      <td>35.0</td>\n",
              "      <td>7300.0</td>\n",
              "      <td>4.600000</td>\n",
              "      <td>0</td>\n",
              "      <td>0</td>\n",
              "      <td>0</td>\n",
              "      <td>0</td>\n",
              "      <td>0</td>\n",
              "      <td>0</td>\n",
              "      <td>1</td>\n",
              "    </tr>\n",
              "  </tbody>\n",
              "</table>\n",
              "</div>"
            ],
            "text/plain": [
              "   id   age    bp     sg   al   su  ...  dm  cad  appet  pe  ane  classification\n",
              "0   0  48.0  80.0  1.020  1.0  0.0  ...   1    0      0   0    0               1\n",
              "1   1   7.0  50.0  1.020  4.0  0.0  ...   0    0      0   0    0               1\n",
              "2   2  62.0  80.0  1.010  2.0  3.0  ...   1    0      1   0    1               1\n",
              "3   3  48.0  70.0  1.005  4.0  0.0  ...   0    0      1   1    1               1\n",
              "4   4  51.0  80.0  1.010  2.0  0.0  ...   0    0      0   0    0               1\n",
              "\n",
              "[5 rows x 25 columns]"
            ]
          },
          "metadata": {
            "tags": []
          },
          "execution_count": 28
        }
      ]
    },
    {
      "cell_type": "code",
      "metadata": {
        "colab": {
          "base_uri": "https://localhost:8080/"
        },
        "id": "nAjNyEy6IqH5",
        "outputId": "9bf02f9d-e2c8-46d7-bb28-321ecc9e766a"
      },
      "source": [
        "print(dataset.isnull().sum())"
      ],
      "execution_count": null,
      "outputs": [
        {
          "output_type": "stream",
          "text": [
            "id                0\n",
            "age               0\n",
            "bp                0\n",
            "sg                0\n",
            "al                0\n",
            "su                0\n",
            "pc                0\n",
            "pcc               0\n",
            "ba                0\n",
            "bgr               0\n",
            "bu                0\n",
            "sc                0\n",
            "sod               0\n",
            "pot               0\n",
            "hemo              0\n",
            "pcv               0\n",
            "wc                0\n",
            "rc                0\n",
            "htn               0\n",
            "dm                0\n",
            "cad               0\n",
            "appet             0\n",
            "pe                0\n",
            "ane               0\n",
            "classification    0\n",
            "dtype: int64\n"
          ],
          "name": "stdout"
        }
      ]
    },
    {
      "cell_type": "code",
      "metadata": {
        "colab": {
          "base_uri": "https://localhost:8080/"
        },
        "id": "_4htnlKmIzT4",
        "outputId": "ada14665-111b-45fa-d43f-897d6a87b0c0"
      },
      "source": [
        "print(dataset)"
      ],
      "execution_count": null,
      "outputs": [
        {
          "output_type": "stream",
          "text": [
            "      id   age    bp     sg   al   su  ...  dm  cad  appet  pe  ane  classification\n",
            "0      0  48.0  80.0  1.020  1.0  0.0  ...   1    0      0   0    0               1\n",
            "1      1   7.0  50.0  1.020  4.0  0.0  ...   0    0      0   0    0               1\n",
            "2      2  62.0  80.0  1.010  2.0  3.0  ...   1    0      1   0    1               1\n",
            "3      3  48.0  70.0  1.005  4.0  0.0  ...   0    0      1   1    1               1\n",
            "4      4  51.0  80.0  1.010  2.0  0.0  ...   0    0      0   0    0               1\n",
            "..   ...   ...   ...    ...  ...  ...  ...  ..  ...    ...  ..  ...             ...\n",
            "395  395  55.0  80.0  1.020  0.0  0.0  ...   0    0      0   0    0               0\n",
            "396  396  42.0  70.0  1.025  0.0  0.0  ...   0    0      0   0    0               0\n",
            "397  397  12.0  80.0  1.020  0.0  0.0  ...   0    0      0   0    0               0\n",
            "398  398  17.0  60.0  1.025  0.0  0.0  ...   0    0      0   0    0               0\n",
            "399  399  58.0  80.0  1.025  0.0  0.0  ...   0    0      0   0    0               0\n",
            "\n",
            "[351 rows x 25 columns]\n"
          ],
          "name": "stdout"
        }
      ]
    },
    {
      "cell_type": "code",
      "metadata": {
        "colab": {
          "base_uri": "https://localhost:8080/",
          "height": 17
        },
        "id": "ohX_bTpdVCGC",
        "outputId": "af443322-d9fb-4e3b-a7dc-5a8c972c9116"
      },
      "source": [
        "#Export Dataset\n",
        "from google.colab import files\n",
        "dataset.to_csv('DatasetPGK(Processed).csv') \n",
        "files.download('DatasetPGK(Processed).csv')"
      ],
      "execution_count": null,
      "outputs": [
        {
          "output_type": "display_data",
          "data": {
            "application/javascript": [
              "\n",
              "    async function download(id, filename, size) {\n",
              "      if (!google.colab.kernel.accessAllowed) {\n",
              "        return;\n",
              "      }\n",
              "      const div = document.createElement('div');\n",
              "      const label = document.createElement('label');\n",
              "      label.textContent = `Downloading \"${filename}\": `;\n",
              "      div.appendChild(label);\n",
              "      const progress = document.createElement('progress');\n",
              "      progress.max = size;\n",
              "      div.appendChild(progress);\n",
              "      document.body.appendChild(div);\n",
              "\n",
              "      const buffers = [];\n",
              "      let downloaded = 0;\n",
              "\n",
              "      const channel = await google.colab.kernel.comms.open(id);\n",
              "      // Send a message to notify the kernel that we're ready.\n",
              "      channel.send({})\n",
              "\n",
              "      for await (const message of channel.messages) {\n",
              "        // Send a message to notify the kernel that we're ready.\n",
              "        channel.send({})\n",
              "        if (message.buffers) {\n",
              "          for (const buffer of message.buffers) {\n",
              "            buffers.push(buffer);\n",
              "            downloaded += buffer.byteLength;\n",
              "            progress.value = downloaded;\n",
              "          }\n",
              "        }\n",
              "      }\n",
              "      const blob = new Blob(buffers, {type: 'application/binary'});\n",
              "      const a = document.createElement('a');\n",
              "      a.href = window.URL.createObjectURL(blob);\n",
              "      a.download = filename;\n",
              "      div.appendChild(a);\n",
              "      a.click();\n",
              "      div.remove();\n",
              "    }\n",
              "  "
            ],
            "text/plain": [
              "<IPython.core.display.Javascript object>"
            ]
          },
          "metadata": {
            "tags": []
          }
        },
        {
          "output_type": "display_data",
          "data": {
            "application/javascript": [
              "download(\"download_27d474b7-4a78-4b8f-97d9-c1d0d2a2f4ed\", \"DatasetPGK(Processed).csv\", 35995)"
            ],
            "text/plain": [
              "<IPython.core.display.Javascript object>"
            ]
          },
          "metadata": {
            "tags": []
          }
        }
      ]
    },
    {
      "cell_type": "code",
      "metadata": {
        "id": "Xhj5csnKVOeM"
      },
      "source": [
        ""
      ],
      "execution_count": null,
      "outputs": []
    }
  ]
}